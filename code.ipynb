{
 "cells": [
  {
   "cell_type": "code",
   "execution_count": 1,
   "id": "8d433015",
   "metadata": {},
   "outputs": [],
   "source": [
    "#載入套件\n",
    "import re #cleaning the text \n",
    "import pandas as pd \n",
    "import numpy as np \n",
    "import string\n",
    "import nltk\n",
    "import warnings"
   ]
  },
  {
   "cell_type": "code",
   "execution_count": 2,
   "id": "42cd76be",
   "metadata": {},
   "outputs": [
    {
     "data": {
      "text/html": [
       "<div>\n",
       "<style scoped>\n",
       "    .dataframe tbody tr th:only-of-type {\n",
       "        vertical-align: middle;\n",
       "    }\n",
       "\n",
       "    .dataframe tbody tr th {\n",
       "        vertical-align: top;\n",
       "    }\n",
       "\n",
       "    .dataframe thead th {\n",
       "        text-align: right;\n",
       "    }\n",
       "</style>\n",
       "<table border=\"1\" class=\"dataframe\">\n",
       "  <thead>\n",
       "    <tr style=\"text-align: right;\">\n",
       "      <th></th>\n",
       "      <th>class</th>\n",
       "      <th>tweet</th>\n",
       "    </tr>\n",
       "  </thead>\n",
       "  <tbody>\n",
       "    <tr>\n",
       "      <th>0</th>\n",
       "      <td>1</td>\n",
       "      <td>[9-1-13] 2:50 pm \"son of a bitch ate my mac n ...</td>\n",
       "    </tr>\n",
       "    <tr>\n",
       "      <th>1</th>\n",
       "      <td>1</td>\n",
       "      <td>RT @BryceSerna: Don't be a pussy grab the boot...</td>\n",
       "    </tr>\n",
       "    <tr>\n",
       "      <th>2</th>\n",
       "      <td>2</td>\n",
       "      <td>RT @ClicquotSuave: bunch of rappers boutta flo...</td>\n",
       "    </tr>\n",
       "    <tr>\n",
       "      <th>3</th>\n",
       "      <td>2</td>\n",
       "      <td>@michigannews13 wow. Thats great language comi...</td>\n",
       "    </tr>\n",
       "    <tr>\n",
       "      <th>4</th>\n",
       "      <td>1</td>\n",
       "      <td>and this is why I'm single, I don't fuck with ...</td>\n",
       "    </tr>\n",
       "  </tbody>\n",
       "</table>\n",
       "</div>"
      ],
      "text/plain": [
       "   class                                              tweet\n",
       "0      1  [9-1-13] 2:50 pm \"son of a bitch ate my mac n ...\n",
       "1      1  RT @BryceSerna: Don't be a pussy grab the boot...\n",
       "2      2  RT @ClicquotSuave: bunch of rappers boutta flo...\n",
       "3      2  @michigannews13 wow. Thats great language comi...\n",
       "4      1  and this is why I'm single, I don't fuck with ..."
      ]
     },
     "execution_count": 2,
     "metadata": {},
     "output_type": "execute_result"
    }
   ],
   "source": [
    "#載入資料集\n",
    "train  = pd.read_csv('train.csv')\n",
    "test = pd.read_csv('test.csv')\n",
    "train.head()"
   ]
  },
  {
   "cell_type": "code",
   "execution_count": 3,
   "id": "6931b348",
   "metadata": {},
   "outputs": [
    {
     "data": {
      "text/html": [
       "<div>\n",
       "<style scoped>\n",
       "    .dataframe tbody tr th:only-of-type {\n",
       "        vertical-align: middle;\n",
       "    }\n",
       "\n",
       "    .dataframe tbody tr th {\n",
       "        vertical-align: top;\n",
       "    }\n",
       "\n",
       "    .dataframe thead th {\n",
       "        text-align: right;\n",
       "    }\n",
       "</style>\n",
       "<table border=\"1\" class=\"dataframe\">\n",
       "  <thead>\n",
       "    <tr style=\"text-align: right;\">\n",
       "      <th></th>\n",
       "      <th>class</th>\n",
       "      <th>tweet</th>\n",
       "      <th>id</th>\n",
       "    </tr>\n",
       "  </thead>\n",
       "  <tbody>\n",
       "    <tr>\n",
       "      <th>0</th>\n",
       "      <td>1.0</td>\n",
       "      <td>[9-1-13] 2:50 pm \"son of a bitch ate my mac n ...</td>\n",
       "      <td>NaN</td>\n",
       "    </tr>\n",
       "    <tr>\n",
       "      <th>1</th>\n",
       "      <td>1.0</td>\n",
       "      <td>RT @BryceSerna: Don't be a pussy grab the boot...</td>\n",
       "      <td>NaN</td>\n",
       "    </tr>\n",
       "    <tr>\n",
       "      <th>2</th>\n",
       "      <td>2.0</td>\n",
       "      <td>RT @ClicquotSuave: bunch of rappers boutta flo...</td>\n",
       "      <td>NaN</td>\n",
       "    </tr>\n",
       "    <tr>\n",
       "      <th>3</th>\n",
       "      <td>2.0</td>\n",
       "      <td>@michigannews13 wow. Thats great language comi...</td>\n",
       "      <td>NaN</td>\n",
       "    </tr>\n",
       "    <tr>\n",
       "      <th>4</th>\n",
       "      <td>1.0</td>\n",
       "      <td>and this is why I'm single, I don't fuck with ...</td>\n",
       "      <td>NaN</td>\n",
       "    </tr>\n",
       "    <tr>\n",
       "      <th>...</th>\n",
       "      <td>...</td>\n",
       "      <td>...</td>\n",
       "      <td>...</td>\n",
       "    </tr>\n",
       "    <tr>\n",
       "      <th>24778</th>\n",
       "      <td>NaN</td>\n",
       "      <td>you're all niggers</td>\n",
       "      <td>9909.0</td>\n",
       "    </tr>\n",
       "    <tr>\n",
       "      <th>24779</th>\n",
       "      <td>NaN</td>\n",
       "      <td>you's a muthaf***in lie &amp;#8220;@LifeAsKing: @2...</td>\n",
       "      <td>9910.0</td>\n",
       "    </tr>\n",
       "    <tr>\n",
       "      <th>24780</th>\n",
       "      <td>NaN</td>\n",
       "      <td>young buck wanna eat!!.. dat nigguh like I ain...</td>\n",
       "      <td>9911.0</td>\n",
       "    </tr>\n",
       "    <tr>\n",
       "      <th>24781</th>\n",
       "      <td>NaN</td>\n",
       "      <td>youu got wild bitches tellin you lies</td>\n",
       "      <td>9912.0</td>\n",
       "    </tr>\n",
       "    <tr>\n",
       "      <th>24782</th>\n",
       "      <td>NaN</td>\n",
       "      <td>~~Ruffled | Ntac Eileen Dahlia - Beautiful col...</td>\n",
       "      <td>9913.0</td>\n",
       "    </tr>\n",
       "  </tbody>\n",
       "</table>\n",
       "<p>24783 rows × 3 columns</p>\n",
       "</div>"
      ],
      "text/plain": [
       "       class                                              tweet      id\n",
       "0        1.0  [9-1-13] 2:50 pm \"son of a bitch ate my mac n ...     NaN\n",
       "1        1.0  RT @BryceSerna: Don't be a pussy grab the boot...     NaN\n",
       "2        2.0  RT @ClicquotSuave: bunch of rappers boutta flo...     NaN\n",
       "3        2.0  @michigannews13 wow. Thats great language comi...     NaN\n",
       "4        1.0  and this is why I'm single, I don't fuck with ...     NaN\n",
       "...      ...                                                ...     ...\n",
       "24778    NaN                                 you're all niggers  9909.0\n",
       "24779    NaN  you's a muthaf***in lie &#8220;@LifeAsKing: @2...  9910.0\n",
       "24780    NaN  young buck wanna eat!!.. dat nigguh like I ain...  9911.0\n",
       "24781    NaN              youu got wild bitches tellin you lies  9912.0\n",
       "24782    NaN  ~~Ruffled | Ntac Eileen Dahlia - Beautiful col...  9913.0\n",
       "\n",
       "[24783 rows x 3 columns]"
      ]
     },
     "execution_count": 3,
     "metadata": {},
     "output_type": "execute_result"
    }
   ],
   "source": [
    "#combine train and test set\n",
    "combi = pd.concat([train, test], axis=0, ignore_index=True)\n",
    "combi"
   ]
  },
  {
   "cell_type": "code",
   "execution_count": null,
   "id": "17120a05",
   "metadata": {},
   "outputs": [],
   "source": [
    "'''\n",
    "對於文字型資料處理不太熟悉，所以上網搜尋參考資料：\n",
    "https://github.com/sachink382/Twitter-Sentiment-Analysis---Analytics-Vidhya\n",
    "'''"
   ]
  },
  {
   "cell_type": "code",
   "execution_count": 4,
   "id": "3546bfac",
   "metadata": {},
   "outputs": [
    {
     "data": {
      "text/plain": [
       "0                              [bitch, cheese, http, oJYZ]\n",
       "1        [pussy, grab, booty, Love, booty, Appreciate, ...\n",
       "2        [bunch, rappers, boutta, flood, internets, tra...\n",
       "3        [Thats, great, language, coming, from, coach, ...\n",
       "4        [this, single, fuck, with, bitches, there, att...\n",
       "                               ...                        \n",
       "24778                                            [niggers]\n",
       "24779    [muthaf, right, trash, mine, Bible, scriptures...\n",
       "24780    [young, buck, wanna, nigguh, like, aint, fucki...\n",
       "24781                  [youu, wild, bitches, tellin, lies]\n",
       "24782    [Ruffled, Ntac, Eileen, Dahlia, Beautiful, col...\n",
       "Name: tweet, Length: 24783, dtype: object"
      ]
     },
     "execution_count": 4,
     "metadata": {},
     "output_type": "execute_result"
    }
   ],
   "source": [
    "## importing regular expression library ## clean tweet text by removing links, special characters etc\n",
    "def remove_pattern(input_txt, pattern):\n",
    "    r = re.findall(pattern, input_txt)\n",
    "    for i in r:\n",
    "        input_txt = re.sub(i, '', input_txt)\n",
    "        \n",
    "    return input_txt\n",
    "\n",
    "# remove twitter handles (@user)\n",
    "combi['tweet'] = np.vectorize(remove_pattern)(combi['tweet'], \"@[\\w]*\")\n",
    "\n",
    "# remove special characters, numbers, punctuations\n",
    "combi['tweet'] = combi['tweet'].str.replace(\"[^a-zA-Z#]\", \" \", regex=True)\n",
    "       \n",
    "#Removing Short Words       \n",
    "combi['tweet'] = combi['tweet'].apply(lambda x: ' '.join([w for w in x.split() if len(w)>3]))       \n",
    "\n",
    "tokenized_tweet = combi['tweet'].apply(lambda x: x.split())\n",
    "tokenized_tweet"
   ]
  },
  {
   "cell_type": "code",
   "execution_count": 5,
   "id": "8752877b",
   "metadata": {},
   "outputs": [],
   "source": [
    "from nltk.stem.porter import *\n",
    "stemmer = PorterStemmer()\n",
    "\n",
    "tokenized_tweet = tokenized_tweet.apply(lambda x: [stemmer.stem(i) for i in x]) # stemming\n",
    "\n",
    "#Now let’s stitch these tokens\n",
    "for i in range(len(tokenized_tweet)):\n",
    "    tokenized_tweet[i] = ' '.join(tokenized_tweet[i])\n",
    "\n",
    "combi['tweet'] = tokenized_tweet\n",
    "\n",
    "#Bag-of-Words Features\n",
    "\n",
    "from sklearn.feature_extraction.text import CountVectorizer\n",
    "bow_vectorizer = CountVectorizer(max_df=0.90, min_df=2, max_features=1000, stop_words='english')\n",
    "# bag-of-words feature matrix\n",
    "bow = bow_vectorizer.fit_transform(combi['tweet'])"
   ]
  },
  {
   "cell_type": "code",
   "execution_count": 6,
   "id": "452d4421",
   "metadata": {},
   "outputs": [],
   "source": [
    "train_bow = bow[:14869,:]\n",
    "test_bow = bow[14869:,:]\n",
    "\n",
    "y_train = train['class']"
   ]
  },
  {
   "cell_type": "code",
   "execution_count": 7,
   "id": "53228498",
   "metadata": {},
   "outputs": [
    {
     "data": {
      "image/png": "[encoded data removed]",
      "text/plain": [
       "<Figure size 720x360 with 1 Axes>"
      ]
     },
     "metadata": {},
     "output_type": "display_data"
    }
   ],
   "source": [
    "import matplotlib.pyplot as plt\n",
    "plt.figure( figsize=(10,5) )\n",
    "y_train.value_counts().plot( kind='pie', autopct='%1.2f%%' )\n",
    "plt.title( 'class' )  # 圖標題\n",
    "plt.ylabel( '' )\n",
    "plt.show()"
   ]
  },
  {
   "cell_type": "code",
   "execution_count": 8,
   "id": "ff6677cf",
   "metadata": {},
   "outputs": [],
   "source": [
    "#處理資料不平衡的問題\n",
    "from imblearn.over_sampling import BorderlineSMOTE\n",
    "bsmote = BorderlineSMOTE()\n",
    "xtrain_bow_bs, ytrain_bs = bsmote.fit_resample(train_bow, y_train)\n",
    "\n",
    "from imblearn.under_sampling import TomekLinks\n",
    "X_res, y_res = TomekLinks().fit_resample(xtrain_bow_bs, ytrain_bs)"
   ]
  },
  {
   "cell_type": "code",
   "execution_count": 9,
   "id": "b07475ea",
   "metadata": {},
   "outputs": [
    {
     "data": {
      "image/png": "[encoded data removed]",
      "text/plain": [
       "<Figure size 720x360 with 1 Axes>"
      ]
     },
     "metadata": {},
     "output_type": "display_data"
    }
   ],
   "source": [
    "plt.figure( figsize=(10,5) )\n",
    "y_res.value_counts().plot( kind='pie', autopct='%1.2f%%' )\n",
    "plt.title( 'class' ) \n",
    "plt.ylabel( '' )\n",
    "plt.show()"
   ]
  },
  {
   "cell_type": "code",
   "execution_count": 10,
   "id": "68f503ed",
   "metadata": {},
   "outputs": [],
   "source": [
    "#使用XGBoost模型預測資料\n",
    "from xgboost import XGBClassifier\n",
    "\n",
    "model = XGBClassifier(n_estimators=100, learning_rate= 0.3)\n",
    "\n",
    "model.fit(X_res, y_res)\n",
    "\n",
    "test_pred = model.predict(test_bow)\n",
    "test['class'] = test_pred"
   ]
  },
  {
   "cell_type": "code",
   "execution_count": 11,
   "id": "ab83580d",
   "metadata": {},
   "outputs": [],
   "source": [
    "submission = test[['id','class']]\n",
    "submission\n",
    "submission.to_csv('output1.csv', index=False) # writing data to a CSV file"
   ]
  },
  {
   "cell_type": "code",
   "execution_count": null,
   "id": "fa32a128",
   "metadata": {},
   "outputs": [],
   "source": []
  }
 ],
 "metadata": {
  "kernelspec": {
   "display_name": "Python 3 (ipykernel)",
   "language": "python",
   "name": "python3"
  },
  "language_info": {
   "codemirror_mode": {
    "name": "ipython",
    "version": 3
   },
   "file_extension": ".py",
   "mimetype": "text/x-python",
   "name": "python",
   "nbconvert_exporter": "python",
   "pygments_lexer": "ipython3",
   "version": "3.9.12"
  }
 },
 "nbformat": 4,
 "nbformat_minor": 5
}
